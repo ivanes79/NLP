{
  "nbformat": 4,
  "nbformat_minor": 0,
  "metadata": {
    "colab": {
      "provenance": [],
      "gpuType": "T4"
    },
    "kernelspec": {
      "name": "python3",
      "display_name": "Python 3"
    },
    "language_info": {
      "name": "python"
    },
    "accelerator": "GPU"
  },
  "cells": [
    {
      "cell_type": "code",
      "execution_count": 1,
      "metadata": {
        "id": "TJ9tLC66uBlQ"
      },
      "outputs": [],
      "source": [
        "\n",
        "from google.colab import drive # acceso\n",
        "import pandas as pd # para acceder al df\n",
        "import multiprocessing # libreria para contar las cpu´s\n",
        "from sklearn.model_selection import train_test_split # Modelado\n",
        "from sklearn.feature_extraction.text import CountVectorizer, TfidfVectorizer # Modelado\n",
        "import random # Para\n",
        "import numpy as np # para manejar arrays\n",
        "from sklearn.utils import shuffle\n",
        "from sklearn.feature_selection import chi2 # Reporte\n",
        "from sklearn.linear_model import LogisticRegression # Reporte\n",
        "from sklearn.ensemble import GradientBoostingClassifier # reporte\n",
        "from sklearn.metrics import accuracy_score, confusion_matrix, classification_report, roc_curve, precision_recall_curve # Reporte\n",
        "from keras.models import Sequential # para definir modelo\n",
        "from keras.layers import Embedding, LSTM, Dense, Dropout, GRU, SimpleRNN # tipos de modelos\n",
        "from tensorflow.keras.utils import pad_sequences # para preparar la entrada al modelo\n",
        "from tensorflow.keras.optimizers import SGD,Adam # optmizadores del modelo\n",
        "import matplotlib.pyplot as plt # Libreria para hacer las graficas que necesito"
      ]
    },
    {
      "cell_type": "code",
      "source": [
        "# Accedo a drive\n",
        "drive.mount('/content/drive')\n",
        "\n",
        "lenguage_limited_balanced = pd.read_csv(\"/content/drive/MyDrive/lenguage_limited_balanced.csv\", sep=';')\n",
        "lenguage_limited_balanced.shape\n"
      ],
      "metadata": {
        "colab": {
          "base_uri": "https://localhost:8080/"
        },
        "id": "EWqEs5J4v9fk",
        "outputId": "eba65fb2-1c97-4730-be11-5a73f91d98c6"
      },
      "execution_count": 2,
      "outputs": [
        {
          "output_type": "stream",
          "name": "stdout",
          "text": [
            "Mounted at /content/drive\n"
          ]
        },
        {
          "output_type": "execute_result",
          "data": {
            "text/plain": [
              "(7000, 12)"
            ]
          },
          "metadata": {},
          "execution_count": 2
        }
      ]
    },
    {
      "cell_type": "code",
      "source": [
        "lenguage_limited_balanced"
      ],
      "metadata": {
        "colab": {
          "base_uri": "https://localhost:8080/",
          "height": 597
        },
        "id": "ahWzmu7-1Qic",
        "outputId": "224086f1-b74a-4b4d-b596-4e5a7fdd47da"
      },
      "execution_count": 3,
      "outputs": [
        {
          "output_type": "execute_result",
          "data": {
            "text/plain": [
              "      overall  verified   reviewTime      reviewerID        asin  \\\n",
              "0           0      True   03 1, 2016  A158CGQ9Q49FBO  B00002DHEV   \n",
              "1           0      True   04 5, 2017  A2N0QLZXJG1GUR  B00000JRSB   \n",
              "2           0      True  11 20, 2009   A86IZI0UBBCPB  B00001X5C3   \n",
              "3           0     False  08 29, 2001  A1HJ2ADX8TH5F6  B000006RGS   \n",
              "4           0      True   08 3, 2015  A17T0HYR6AZEJ1  B00002ST37   \n",
              "...       ...       ...          ...             ...         ...   \n",
              "6995        1     False   07 6, 2002  A2SUJNVVNKS7Y1  B00002EPY6   \n",
              "6996        1     False  12 28, 2007  A2D9GR3GE3RYG3  B00000JHPD   \n",
              "6997        1      True  10 15, 2016  A2R4GEAY9VSCN9  0804161380   \n",
              "6998        1      True  01 13, 2014  A2HN003L4U1BD6  0804161380   \n",
              "6999        1      True  05 24, 2017  A28IBLADOT9LAN  B00002STXQ   \n",
              "\n",
              "             reviewerName                                         reviewText  \\\n",
              "0                   Sully  receive item today find broken top area near m...   \n",
              "1         Amazon Customer                       paid extra said booklet book   \n",
              "2          Vernon Johnson  wasnt even right game ordered wrestlemania sen...   \n",
              "3               G. Hollis  going fly face convention wisdom assert tomb r...   \n",
              "4          Ryan Guerrette    gameboy pocket got yellow gameboy color instead   \n",
              "...                   ...                                                ...   \n",
              "6995              Brandon  easy fun game makes really try great game good...   \n",
              "6996                Smith  controllers great complaint wiring came origin...   \n",
              "6997           Matthew D.  long time legend zelda fan find chest impressi...   \n",
              "6998       michael mccraw  thoroughly impressed items books crisp beautif...   \n",
              "6999  Woooooooohooooooooo                                         get better   \n",
              "\n",
              "                                                summary  unixReviewTime  vote  \\\n",
              "0                                    Broken Merchandise      1456790400   NaN   \n",
              "1                                                Really      1491350400   NaN   \n",
              "2                                            This Sucks      1258675200   NaN   \n",
              "3     Concept is good, but tedious game play really ...       999043200   7.0   \n",
              "4                                              One Star      1438560000   NaN   \n",
              "...                                                 ...             ...   ...   \n",
              "6995                   The Best Simplest Game Out There      1025913600   NaN   \n",
              "6996                               good while it lasted      1198800000   NaN   \n",
              "6997                                     Very gorgeous!      1476489600   NaN   \n",
              "6998                                      Great box set      1389571200   NaN   \n",
              "6999                                         Five Stars      1495584000   NaN   \n",
              "\n",
              "                           style image  \n",
              "0                            NaN   NaN  \n",
              "1     {'Format:': ' Video Game'}   NaN  \n",
              "2                            NaN   NaN  \n",
              "3     {'Format:': ' Video Game'}   NaN  \n",
              "4          {'Color:': ' Yellow'}   NaN  \n",
              "...                          ...   ...  \n",
              "6995                         NaN   NaN  \n",
              "6996                         NaN   NaN  \n",
              "6997   {'Format:': ' Hardcover'}   NaN  \n",
              "6998   {'Format:': ' Hardcover'}   NaN  \n",
              "6999  {'Format:': ' Video Game'}   NaN  \n",
              "\n",
              "[7000 rows x 12 columns]"
            ],
            "text/html": [
              "\n",
              "  <div id=\"df-39189136-f018-4692-934e-fd4a547a34c2\" class=\"colab-df-container\">\n",
              "    <div>\n",
              "<style scoped>\n",
              "    .dataframe tbody tr th:only-of-type {\n",
              "        vertical-align: middle;\n",
              "    }\n",
              "\n",
              "    .dataframe tbody tr th {\n",
              "        vertical-align: top;\n",
              "    }\n",
              "\n",
              "    .dataframe thead th {\n",
              "        text-align: right;\n",
              "    }\n",
              "</style>\n",
              "<table border=\"1\" class=\"dataframe\">\n",
              "  <thead>\n",
              "    <tr style=\"text-align: right;\">\n",
              "      <th></th>\n",
              "      <th>overall</th>\n",
              "      <th>verified</th>\n",
              "      <th>reviewTime</th>\n",
              "      <th>reviewerID</th>\n",
              "      <th>asin</th>\n",
              "      <th>reviewerName</th>\n",
              "      <th>reviewText</th>\n",
              "      <th>summary</th>\n",
              "      <th>unixReviewTime</th>\n",
              "      <th>vote</th>\n",
              "      <th>style</th>\n",
              "      <th>image</th>\n",
              "    </tr>\n",
              "  </thead>\n",
              "  <tbody>\n",
              "    <tr>\n",
              "      <th>0</th>\n",
              "      <td>0</td>\n",
              "      <td>True</td>\n",
              "      <td>03 1, 2016</td>\n",
              "      <td>A158CGQ9Q49FBO</td>\n",
              "      <td>B00002DHEV</td>\n",
              "      <td>Sully</td>\n",
              "      <td>receive item today find broken top area near m...</td>\n",
              "      <td>Broken Merchandise</td>\n",
              "      <td>1456790400</td>\n",
              "      <td>NaN</td>\n",
              "      <td>NaN</td>\n",
              "      <td>NaN</td>\n",
              "    </tr>\n",
              "    <tr>\n",
              "      <th>1</th>\n",
              "      <td>0</td>\n",
              "      <td>True</td>\n",
              "      <td>04 5, 2017</td>\n",
              "      <td>A2N0QLZXJG1GUR</td>\n",
              "      <td>B00000JRSB</td>\n",
              "      <td>Amazon Customer</td>\n",
              "      <td>paid extra said booklet book</td>\n",
              "      <td>Really</td>\n",
              "      <td>1491350400</td>\n",
              "      <td>NaN</td>\n",
              "      <td>{'Format:': ' Video Game'}</td>\n",
              "      <td>NaN</td>\n",
              "    </tr>\n",
              "    <tr>\n",
              "      <th>2</th>\n",
              "      <td>0</td>\n",
              "      <td>True</td>\n",
              "      <td>11 20, 2009</td>\n",
              "      <td>A86IZI0UBBCPB</td>\n",
              "      <td>B00001X5C3</td>\n",
              "      <td>Vernon Johnson</td>\n",
              "      <td>wasnt even right game ordered wrestlemania sen...</td>\n",
              "      <td>This Sucks</td>\n",
              "      <td>1258675200</td>\n",
              "      <td>NaN</td>\n",
              "      <td>NaN</td>\n",
              "      <td>NaN</td>\n",
              "    </tr>\n",
              "    <tr>\n",
              "      <th>3</th>\n",
              "      <td>0</td>\n",
              "      <td>False</td>\n",
              "      <td>08 29, 2001</td>\n",
              "      <td>A1HJ2ADX8TH5F6</td>\n",
              "      <td>B000006RGS</td>\n",
              "      <td>G. Hollis</td>\n",
              "      <td>going fly face convention wisdom assert tomb r...</td>\n",
              "      <td>Concept is good, but tedious game play really ...</td>\n",
              "      <td>999043200</td>\n",
              "      <td>7.0</td>\n",
              "      <td>{'Format:': ' Video Game'}</td>\n",
              "      <td>NaN</td>\n",
              "    </tr>\n",
              "    <tr>\n",
              "      <th>4</th>\n",
              "      <td>0</td>\n",
              "      <td>True</td>\n",
              "      <td>08 3, 2015</td>\n",
              "      <td>A17T0HYR6AZEJ1</td>\n",
              "      <td>B00002ST37</td>\n",
              "      <td>Ryan Guerrette</td>\n",
              "      <td>gameboy pocket got yellow gameboy color instead</td>\n",
              "      <td>One Star</td>\n",
              "      <td>1438560000</td>\n",
              "      <td>NaN</td>\n",
              "      <td>{'Color:': ' Yellow'}</td>\n",
              "      <td>NaN</td>\n",
              "    </tr>\n",
              "    <tr>\n",
              "      <th>...</th>\n",
              "      <td>...</td>\n",
              "      <td>...</td>\n",
              "      <td>...</td>\n",
              "      <td>...</td>\n",
              "      <td>...</td>\n",
              "      <td>...</td>\n",
              "      <td>...</td>\n",
              "      <td>...</td>\n",
              "      <td>...</td>\n",
              "      <td>...</td>\n",
              "      <td>...</td>\n",
              "      <td>...</td>\n",
              "    </tr>\n",
              "    <tr>\n",
              "      <th>6995</th>\n",
              "      <td>1</td>\n",
              "      <td>False</td>\n",
              "      <td>07 6, 2002</td>\n",
              "      <td>A2SUJNVVNKS7Y1</td>\n",
              "      <td>B00002EPY6</td>\n",
              "      <td>Brandon</td>\n",
              "      <td>easy fun game makes really try great game good...</td>\n",
              "      <td>The Best Simplest Game Out There</td>\n",
              "      <td>1025913600</td>\n",
              "      <td>NaN</td>\n",
              "      <td>NaN</td>\n",
              "      <td>NaN</td>\n",
              "    </tr>\n",
              "    <tr>\n",
              "      <th>6996</th>\n",
              "      <td>1</td>\n",
              "      <td>False</td>\n",
              "      <td>12 28, 2007</td>\n",
              "      <td>A2D9GR3GE3RYG3</td>\n",
              "      <td>B00000JHPD</td>\n",
              "      <td>Smith</td>\n",
              "      <td>controllers great complaint wiring came origin...</td>\n",
              "      <td>good while it lasted</td>\n",
              "      <td>1198800000</td>\n",
              "      <td>NaN</td>\n",
              "      <td>NaN</td>\n",
              "      <td>NaN</td>\n",
              "    </tr>\n",
              "    <tr>\n",
              "      <th>6997</th>\n",
              "      <td>1</td>\n",
              "      <td>True</td>\n",
              "      <td>10 15, 2016</td>\n",
              "      <td>A2R4GEAY9VSCN9</td>\n",
              "      <td>0804161380</td>\n",
              "      <td>Matthew D.</td>\n",
              "      <td>long time legend zelda fan find chest impressi...</td>\n",
              "      <td>Very gorgeous!</td>\n",
              "      <td>1476489600</td>\n",
              "      <td>NaN</td>\n",
              "      <td>{'Format:': ' Hardcover'}</td>\n",
              "      <td>NaN</td>\n",
              "    </tr>\n",
              "    <tr>\n",
              "      <th>6998</th>\n",
              "      <td>1</td>\n",
              "      <td>True</td>\n",
              "      <td>01 13, 2014</td>\n",
              "      <td>A2HN003L4U1BD6</td>\n",
              "      <td>0804161380</td>\n",
              "      <td>michael mccraw</td>\n",
              "      <td>thoroughly impressed items books crisp beautif...</td>\n",
              "      <td>Great box set</td>\n",
              "      <td>1389571200</td>\n",
              "      <td>NaN</td>\n",
              "      <td>{'Format:': ' Hardcover'}</td>\n",
              "      <td>NaN</td>\n",
              "    </tr>\n",
              "    <tr>\n",
              "      <th>6999</th>\n",
              "      <td>1</td>\n",
              "      <td>True</td>\n",
              "      <td>05 24, 2017</td>\n",
              "      <td>A28IBLADOT9LAN</td>\n",
              "      <td>B00002STXQ</td>\n",
              "      <td>Woooooooohooooooooo</td>\n",
              "      <td>get better</td>\n",
              "      <td>Five Stars</td>\n",
              "      <td>1495584000</td>\n",
              "      <td>NaN</td>\n",
              "      <td>{'Format:': ' Video Game'}</td>\n",
              "      <td>NaN</td>\n",
              "    </tr>\n",
              "  </tbody>\n",
              "</table>\n",
              "<p>7000 rows × 12 columns</p>\n",
              "</div>\n",
              "    <div class=\"colab-df-buttons\">\n",
              "\n",
              "  <div class=\"colab-df-container\">\n",
              "    <button class=\"colab-df-convert\" onclick=\"convertToInteractive('df-39189136-f018-4692-934e-fd4a547a34c2')\"\n",
              "            title=\"Convert this dataframe to an interactive table.\"\n",
              "            style=\"display:none;\">\n",
              "\n",
              "  <svg xmlns=\"http://www.w3.org/2000/svg\" height=\"24px\" viewBox=\"0 -960 960 960\">\n",
              "    <path d=\"M120-120v-720h720v720H120Zm60-500h600v-160H180v160Zm220 220h160v-160H400v160Zm0 220h160v-160H400v160ZM180-400h160v-160H180v160Zm440 0h160v-160H620v160ZM180-180h160v-160H180v160Zm440 0h160v-160H620v160Z\"/>\n",
              "  </svg>\n",
              "    </button>\n",
              "\n",
              "  <style>\n",
              "    .colab-df-container {\n",
              "      display:flex;\n",
              "      gap: 12px;\n",
              "    }\n",
              "\n",
              "    .colab-df-convert {\n",
              "      background-color: #E8F0FE;\n",
              "      border: none;\n",
              "      border-radius: 50%;\n",
              "      cursor: pointer;\n",
              "      display: none;\n",
              "      fill: #1967D2;\n",
              "      height: 32px;\n",
              "      padding: 0 0 0 0;\n",
              "      width: 32px;\n",
              "    }\n",
              "\n",
              "    .colab-df-convert:hover {\n",
              "      background-color: #E2EBFA;\n",
              "      box-shadow: 0px 1px 2px rgba(60, 64, 67, 0.3), 0px 1px 3px 1px rgba(60, 64, 67, 0.15);\n",
              "      fill: #174EA6;\n",
              "    }\n",
              "\n",
              "    .colab-df-buttons div {\n",
              "      margin-bottom: 4px;\n",
              "    }\n",
              "\n",
              "    [theme=dark] .colab-df-convert {\n",
              "      background-color: #3B4455;\n",
              "      fill: #D2E3FC;\n",
              "    }\n",
              "\n",
              "    [theme=dark] .colab-df-convert:hover {\n",
              "      background-color: #434B5C;\n",
              "      box-shadow: 0px 1px 3px 1px rgba(0, 0, 0, 0.15);\n",
              "      filter: drop-shadow(0px 1px 2px rgba(0, 0, 0, 0.3));\n",
              "      fill: #FFFFFF;\n",
              "    }\n",
              "  </style>\n",
              "\n",
              "    <script>\n",
              "      const buttonEl =\n",
              "        document.querySelector('#df-39189136-f018-4692-934e-fd4a547a34c2 button.colab-df-convert');\n",
              "      buttonEl.style.display =\n",
              "        google.colab.kernel.accessAllowed ? 'block' : 'none';\n",
              "\n",
              "      async function convertToInteractive(key) {\n",
              "        const element = document.querySelector('#df-39189136-f018-4692-934e-fd4a547a34c2');\n",
              "        const dataTable =\n",
              "          await google.colab.kernel.invokeFunction('convertToInteractive',\n",
              "                                                    [key], {});\n",
              "        if (!dataTable) return;\n",
              "\n",
              "        const docLinkHtml = 'Like what you see? Visit the ' +\n",
              "          '<a target=\"_blank\" href=https://colab.research.google.com/notebooks/data_table.ipynb>data table notebook</a>'\n",
              "          + ' to learn more about interactive tables.';\n",
              "        element.innerHTML = '';\n",
              "        dataTable['output_type'] = 'display_data';\n",
              "        await google.colab.output.renderOutput(dataTable, element);\n",
              "        const docLink = document.createElement('div');\n",
              "        docLink.innerHTML = docLinkHtml;\n",
              "        element.appendChild(docLink);\n",
              "      }\n",
              "    </script>\n",
              "  </div>\n",
              "\n",
              "\n",
              "<div id=\"df-c226e268-614e-4257-9cf3-8eff22c65fd5\">\n",
              "  <button class=\"colab-df-quickchart\" onclick=\"quickchart('df-c226e268-614e-4257-9cf3-8eff22c65fd5')\"\n",
              "            title=\"Suggest charts\"\n",
              "            style=\"display:none;\">\n",
              "\n",
              "<svg xmlns=\"http://www.w3.org/2000/svg\" height=\"24px\"viewBox=\"0 0 24 24\"\n",
              "     width=\"24px\">\n",
              "    <g>\n",
              "        <path d=\"M19 3H5c-1.1 0-2 .9-2 2v14c0 1.1.9 2 2 2h14c1.1 0 2-.9 2-2V5c0-1.1-.9-2-2-2zM9 17H7v-7h2v7zm4 0h-2V7h2v10zm4 0h-2v-4h2v4z\"/>\n",
              "    </g>\n",
              "</svg>\n",
              "  </button>\n",
              "\n",
              "<style>\n",
              "  .colab-df-quickchart {\n",
              "      --bg-color: #E8F0FE;\n",
              "      --fill-color: #1967D2;\n",
              "      --hover-bg-color: #E2EBFA;\n",
              "      --hover-fill-color: #174EA6;\n",
              "      --disabled-fill-color: #AAA;\n",
              "      --disabled-bg-color: #DDD;\n",
              "  }\n",
              "\n",
              "  [theme=dark] .colab-df-quickchart {\n",
              "      --bg-color: #3B4455;\n",
              "      --fill-color: #D2E3FC;\n",
              "      --hover-bg-color: #434B5C;\n",
              "      --hover-fill-color: #FFFFFF;\n",
              "      --disabled-bg-color: #3B4455;\n",
              "      --disabled-fill-color: #666;\n",
              "  }\n",
              "\n",
              "  .colab-df-quickchart {\n",
              "    background-color: var(--bg-color);\n",
              "    border: none;\n",
              "    border-radius: 50%;\n",
              "    cursor: pointer;\n",
              "    display: none;\n",
              "    fill: var(--fill-color);\n",
              "    height: 32px;\n",
              "    padding: 0;\n",
              "    width: 32px;\n",
              "  }\n",
              "\n",
              "  .colab-df-quickchart:hover {\n",
              "    background-color: var(--hover-bg-color);\n",
              "    box-shadow: 0 1px 2px rgba(60, 64, 67, 0.3), 0 1px 3px 1px rgba(60, 64, 67, 0.15);\n",
              "    fill: var(--button-hover-fill-color);\n",
              "  }\n",
              "\n",
              "  .colab-df-quickchart-complete:disabled,\n",
              "  .colab-df-quickchart-complete:disabled:hover {\n",
              "    background-color: var(--disabled-bg-color);\n",
              "    fill: var(--disabled-fill-color);\n",
              "    box-shadow: none;\n",
              "  }\n",
              "\n",
              "  .colab-df-spinner {\n",
              "    border: 2px solid var(--fill-color);\n",
              "    border-color: transparent;\n",
              "    border-bottom-color: var(--fill-color);\n",
              "    animation:\n",
              "      spin 1s steps(1) infinite;\n",
              "  }\n",
              "\n",
              "  @keyframes spin {\n",
              "    0% {\n",
              "      border-color: transparent;\n",
              "      border-bottom-color: var(--fill-color);\n",
              "      border-left-color: var(--fill-color);\n",
              "    }\n",
              "    20% {\n",
              "      border-color: transparent;\n",
              "      border-left-color: var(--fill-color);\n",
              "      border-top-color: var(--fill-color);\n",
              "    }\n",
              "    30% {\n",
              "      border-color: transparent;\n",
              "      border-left-color: var(--fill-color);\n",
              "      border-top-color: var(--fill-color);\n",
              "      border-right-color: var(--fill-color);\n",
              "    }\n",
              "    40% {\n",
              "      border-color: transparent;\n",
              "      border-right-color: var(--fill-color);\n",
              "      border-top-color: var(--fill-color);\n",
              "    }\n",
              "    60% {\n",
              "      border-color: transparent;\n",
              "      border-right-color: var(--fill-color);\n",
              "    }\n",
              "    80% {\n",
              "      border-color: transparent;\n",
              "      border-right-color: var(--fill-color);\n",
              "      border-bottom-color: var(--fill-color);\n",
              "    }\n",
              "    90% {\n",
              "      border-color: transparent;\n",
              "      border-bottom-color: var(--fill-color);\n",
              "    }\n",
              "  }\n",
              "</style>\n",
              "\n",
              "  <script>\n",
              "    async function quickchart(key) {\n",
              "      const quickchartButtonEl =\n",
              "        document.querySelector('#' + key + ' button');\n",
              "      quickchartButtonEl.disabled = true;  // To prevent multiple clicks.\n",
              "      quickchartButtonEl.classList.add('colab-df-spinner');\n",
              "      try {\n",
              "        const charts = await google.colab.kernel.invokeFunction(\n",
              "            'suggestCharts', [key], {});\n",
              "      } catch (error) {\n",
              "        console.error('Error during call to suggestCharts:', error);\n",
              "      }\n",
              "      quickchartButtonEl.classList.remove('colab-df-spinner');\n",
              "      quickchartButtonEl.classList.add('colab-df-quickchart-complete');\n",
              "    }\n",
              "    (() => {\n",
              "      let quickchartButtonEl =\n",
              "        document.querySelector('#df-c226e268-614e-4257-9cf3-8eff22c65fd5 button');\n",
              "      quickchartButtonEl.style.display =\n",
              "        google.colab.kernel.accessAllowed ? 'block' : 'none';\n",
              "    })();\n",
              "  </script>\n",
              "</div>\n",
              "    </div>\n",
              "  </div>\n"
            ],
            "application/vnd.google.colaboratory.intrinsic+json": {
              "type": "dataframe",
              "variable_name": "lenguage_limited_balanced",
              "summary": "{\n  \"name\": \"lenguage_limited_balanced\",\n  \"rows\": 7000,\n  \"fields\": [\n    {\n      \"column\": \"overall\",\n      \"properties\": {\n        \"dtype\": \"number\",\n        \"std\": 0,\n        \"min\": 0,\n        \"max\": 1,\n        \"num_unique_values\": 2,\n        \"samples\": [\n          1,\n          0\n        ],\n        \"semantic_type\": \"\",\n        \"description\": \"\"\n      }\n    },\n    {\n      \"column\": \"verified\",\n      \"properties\": {\n        \"dtype\": \"boolean\",\n        \"num_unique_values\": 2,\n        \"samples\": [\n          false,\n          true\n        ],\n        \"semantic_type\": \"\",\n        \"description\": \"\"\n      }\n    },\n    {\n      \"column\": \"reviewTime\",\n      \"properties\": {\n        \"dtype\": \"object\",\n        \"num_unique_values\": 3278,\n        \"samples\": [\n          \"08 23, 2007\",\n          \"02 6, 2013\"\n        ],\n        \"semantic_type\": \"\",\n        \"description\": \"\"\n      }\n    },\n    {\n      \"column\": \"reviewerID\",\n      \"properties\": {\n        \"dtype\": \"string\",\n        \"num_unique_values\": 5230,\n        \"samples\": [\n          \"A1REQU968AN4BU\",\n          \"A1C8XTHGWD9DUW\"\n        ],\n        \"semantic_type\": \"\",\n        \"description\": \"\"\n      }\n    },\n    {\n      \"column\": \"asin\",\n      \"properties\": {\n        \"dtype\": \"category\",\n        \"num_unique_values\": 601,\n        \"samples\": [\n          \"B00002EPYB\",\n          \"B00000IMNB\"\n        ],\n        \"semantic_type\": \"\",\n        \"description\": \"\"\n      }\n    },\n    {\n      \"column\": \"reviewerName\",\n      \"properties\": {\n        \"dtype\": \"string\",\n        \"num_unique_values\": 4360,\n        \"samples\": [\n          \"Brenda Abell\",\n          \"Vince\"\n        ],\n        \"semantic_type\": \"\",\n        \"description\": \"\"\n      }\n    },\n    {\n      \"column\": \"reviewText\",\n      \"properties\": {\n        \"dtype\": \"string\",\n        \"num_unique_values\": 5361,\n        \"samples\": [\n          \"used putting term permanent marker name written light scratches screen plus\",\n          \"pain see questions new ones pop good phone friend people mostly know talking wit shows music graphics buy pretty\"\n        ],\n        \"semantic_type\": \"\",\n        \"description\": \"\"\n      }\n    },\n    {\n      \"column\": \"summary\",\n      \"properties\": {\n        \"dtype\": \"string\",\n        \"num_unique_values\": 4523,\n        \"samples\": [\n          \"4/5\",\n          \"He said it was a lot of fun.\"\n        ],\n        \"semantic_type\": \"\",\n        \"description\": \"\"\n      }\n    },\n    {\n      \"column\": \"unixReviewTime\",\n      \"properties\": {\n        \"dtype\": \"number\",\n        \"std\": 198593462,\n        \"min\": 882057600,\n        \"max\": 1522540800,\n        \"num_unique_values\": 3278,\n        \"samples\": [\n          1187827200,\n          1360108800\n        ],\n        \"semantic_type\": \"\",\n        \"description\": \"\"\n      }\n    },\n    {\n      \"column\": \"vote\",\n      \"properties\": {\n        \"dtype\": \"number\",\n        \"std\": 21.695875013830854,\n        \"min\": 2.0,\n        \"max\": 454.0,\n        \"num_unique_values\": 57,\n        \"samples\": [\n          7.0,\n          18.0\n        ],\n        \"semantic_type\": \"\",\n        \"description\": \"\"\n      }\n    },\n    {\n      \"column\": \"style\",\n      \"properties\": {\n        \"dtype\": \"category\",\n        \"num_unique_values\": 31,\n        \"samples\": [\n          \"{'Edition:': ' Standard', 'Platform:': ' PC Download'}\",\n          \"{'Edition:': ' Standard', 'Platform:': ' PlayStation'}\"\n        ],\n        \"semantic_type\": \"\",\n        \"description\": \"\"\n      }\n    },\n    {\n      \"column\": \"image\",\n      \"properties\": {\n        \"dtype\": \"category\",\n        \"num_unique_values\": 36,\n        \"samples\": [\n          \"['https://images-na.ssl-images-amazon.com/images/I/712bxw7NwkL._SY88.jpg', 'https://images-na.ssl-images-amazon.com/images/I/71oCkZEeaoL._SY88.jpg']\",\n          \"['https://images-na.ssl-images-amazon.com/images/I/71QHwkv1xAL._SY88.jpg']\"\n        ],\n        \"semantic_type\": \"\",\n        \"description\": \"\"\n      }\n    }\n  ]\n}"
            }
          },
          "metadata": {},
          "execution_count": 3
        }
      ]
    },
    {
      "cell_type": "code",
      "source": [
        "# compruebo el shape y los nan\n",
        "print(lenguage_limited_balanced['reviewText'].shape)\n",
        "print(lenguage_limited_balanced['overall'].isna().sum())\n",
        "print(lenguage_limited_balanced['reviewText'].isna().sum())"
      ],
      "metadata": {
        "colab": {
          "base_uri": "https://localhost:8080/"
        },
        "id": "ohOAktKkPIQr",
        "outputId": "6c082ca2-d162-42f2-f521-3e00836c3d6c"
      },
      "execution_count": 4,
      "outputs": [
        {
          "output_type": "stream",
          "name": "stdout",
          "text": [
            "(7000,)\n",
            "0\n",
            "51\n"
          ]
        }
      ]
    },
    {
      "cell_type": "code",
      "source": [
        "# elimino los nan del dataset\n",
        "\n",
        "lenguage_limited_balanced.dropna(subset=['overall','reviewText'], inplace=True)"
      ],
      "metadata": {
        "id": "LiiZI76ZSwI5"
      },
      "execution_count": 5,
      "outputs": []
    },
    {
      "cell_type": "code",
      "source": [
        "# Vuelvo a examinar los shape y los nan´s\n",
        "\n",
        "print(lenguage_limited_balanced['overall'].shape)\n",
        "print(lenguage_limited_balanced['reviewText'].shape)\n",
        "print(lenguage_limited_balanced['overall'].isna().sum())\n",
        "print(lenguage_limited_balanced['reviewText'].isna().sum())"
      ],
      "metadata": {
        "colab": {
          "base_uri": "https://localhost:8080/"
        },
        "id": "3uI6G0fBPVVf",
        "outputId": "b85c3fcc-6f6b-4bf1-8c70-03ea5877ddf6"
      },
      "execution_count": 6,
      "outputs": [
        {
          "output_type": "stream",
          "name": "stdout",
          "text": [
            "(6949,)\n",
            "(6949,)\n",
            "0\n",
            "0\n"
          ]
        }
      ]
    },
    {
      "cell_type": "code",
      "source": [
        "# separo los datos en train y test\n",
        "\n",
        "X_train, X_test, y_train, y_test = train_test_split(\n",
        "    lenguage_limited_balanced['reviewText'],\n",
        "    lenguage_limited_balanced['overall'],\n",
        "    train_size=0.80,\n",
        "    test_size=0.20,\n",
        "    random_state=42,\n",
        "    shuffle=True,\n",
        "\n",
        "\n",
        ")"
      ],
      "metadata": {
        "id": "vsd8CanSv9_o"
      },
      "execution_count": 7,
      "outputs": []
    },
    {
      "cell_type": "code",
      "source": [
        "# Creo una estancia TfidfVectorize\n",
        "\n",
        "cv = TfidfVectorizer(\n",
        "    max_df=0.95,\n",
        "    min_df=3,\n",
        "    max_features=9000,\n",
        "    strip_accents='ascii',\n",
        "    ngram_range=(1, 1)\n",
        ")\n",
        "cv.fit(X_train)"
      ],
      "metadata": {
        "colab": {
          "base_uri": "https://localhost:8080/",
          "height": 74
        },
        "id": "npW49DYYwAlY",
        "outputId": "c4282139-f8fb-425c-d24f-6bea61ef8435"
      },
      "execution_count": 8,
      "outputs": [
        {
          "output_type": "execute_result",
          "data": {
            "text/plain": [
              "TfidfVectorizer(max_df=0.95, max_features=9000, min_df=3, strip_accents='ascii')"
            ],
            "text/html": [
              "<style>#sk-container-id-1 {color: black;background-color: white;}#sk-container-id-1 pre{padding: 0;}#sk-container-id-1 div.sk-toggleable {background-color: white;}#sk-container-id-1 label.sk-toggleable__label {cursor: pointer;display: block;width: 100%;margin-bottom: 0;padding: 0.3em;box-sizing: border-box;text-align: center;}#sk-container-id-1 label.sk-toggleable__label-arrow:before {content: \"▸\";float: left;margin-right: 0.25em;color: #696969;}#sk-container-id-1 label.sk-toggleable__label-arrow:hover:before {color: black;}#sk-container-id-1 div.sk-estimator:hover label.sk-toggleable__label-arrow:before {color: black;}#sk-container-id-1 div.sk-toggleable__content {max-height: 0;max-width: 0;overflow: hidden;text-align: left;background-color: #f0f8ff;}#sk-container-id-1 div.sk-toggleable__content pre {margin: 0.2em;color: black;border-radius: 0.25em;background-color: #f0f8ff;}#sk-container-id-1 input.sk-toggleable__control:checked~div.sk-toggleable__content {max-height: 200px;max-width: 100%;overflow: auto;}#sk-container-id-1 input.sk-toggleable__control:checked~label.sk-toggleable__label-arrow:before {content: \"▾\";}#sk-container-id-1 div.sk-estimator input.sk-toggleable__control:checked~label.sk-toggleable__label {background-color: #d4ebff;}#sk-container-id-1 div.sk-label input.sk-toggleable__control:checked~label.sk-toggleable__label {background-color: #d4ebff;}#sk-container-id-1 input.sk-hidden--visually {border: 0;clip: rect(1px 1px 1px 1px);clip: rect(1px, 1px, 1px, 1px);height: 1px;margin: -1px;overflow: hidden;padding: 0;position: absolute;width: 1px;}#sk-container-id-1 div.sk-estimator {font-family: monospace;background-color: #f0f8ff;border: 1px dotted black;border-radius: 0.25em;box-sizing: border-box;margin-bottom: 0.5em;}#sk-container-id-1 div.sk-estimator:hover {background-color: #d4ebff;}#sk-container-id-1 div.sk-parallel-item::after {content: \"\";width: 100%;border-bottom: 1px solid gray;flex-grow: 1;}#sk-container-id-1 div.sk-label:hover label.sk-toggleable__label {background-color: #d4ebff;}#sk-container-id-1 div.sk-serial::before {content: \"\";position: absolute;border-left: 1px solid gray;box-sizing: border-box;top: 0;bottom: 0;left: 50%;z-index: 0;}#sk-container-id-1 div.sk-serial {display: flex;flex-direction: column;align-items: center;background-color: white;padding-right: 0.2em;padding-left: 0.2em;position: relative;}#sk-container-id-1 div.sk-item {position: relative;z-index: 1;}#sk-container-id-1 div.sk-parallel {display: flex;align-items: stretch;justify-content: center;background-color: white;position: relative;}#sk-container-id-1 div.sk-item::before, #sk-container-id-1 div.sk-parallel-item::before {content: \"\";position: absolute;border-left: 1px solid gray;box-sizing: border-box;top: 0;bottom: 0;left: 50%;z-index: -1;}#sk-container-id-1 div.sk-parallel-item {display: flex;flex-direction: column;z-index: 1;position: relative;background-color: white;}#sk-container-id-1 div.sk-parallel-item:first-child::after {align-self: flex-end;width: 50%;}#sk-container-id-1 div.sk-parallel-item:last-child::after {align-self: flex-start;width: 50%;}#sk-container-id-1 div.sk-parallel-item:only-child::after {width: 0;}#sk-container-id-1 div.sk-dashed-wrapped {border: 1px dashed gray;margin: 0 0.4em 0.5em 0.4em;box-sizing: border-box;padding-bottom: 0.4em;background-color: white;}#sk-container-id-1 div.sk-label label {font-family: monospace;font-weight: bold;display: inline-block;line-height: 1.2em;}#sk-container-id-1 div.sk-label-container {text-align: center;}#sk-container-id-1 div.sk-container {/* jupyter's `normalize.less` sets `[hidden] { display: none; }` but bootstrap.min.css set `[hidden] { display: none !important; }` so we also need the `!important` here to be able to override the default hidden behavior on the sphinx rendered scikit-learn.org. See: https://github.com/scikit-learn/scikit-learn/issues/21755 */display: inline-block !important;position: relative;}#sk-container-id-1 div.sk-text-repr-fallback {display: none;}</style><div id=\"sk-container-id-1\" class=\"sk-top-container\"><div class=\"sk-text-repr-fallback\"><pre>TfidfVectorizer(max_df=0.95, max_features=9000, min_df=3, strip_accents=&#x27;ascii&#x27;)</pre><b>In a Jupyter environment, please rerun this cell to show the HTML representation or trust the notebook. <br />On GitHub, the HTML representation is unable to render, please try loading this page with nbviewer.org.</b></div><div class=\"sk-container\" hidden><div class=\"sk-item\"><div class=\"sk-estimator sk-toggleable\"><input class=\"sk-toggleable__control sk-hidden--visually\" id=\"sk-estimator-id-1\" type=\"checkbox\" checked><label for=\"sk-estimator-id-1\" class=\"sk-toggleable__label sk-toggleable__label-arrow\">TfidfVectorizer</label><div class=\"sk-toggleable__content\"><pre>TfidfVectorizer(max_df=0.95, max_features=9000, min_df=3, strip_accents=&#x27;ascii&#x27;)</pre></div></div></div></div></div>"
            ]
          },
          "metadata": {},
          "execution_count": 8
        }
      ]
    },
    {
      "cell_type": "code",
      "source": [
        "# Muestro algunas palabras y su valor despues de TfidfVectorizer\n",
        "\n",
        "print(list(cv.vocabulary_.items())[:20])"
      ],
      "metadata": {
        "colab": {
          "base_uri": "https://localhost:8080/"
        },
        "id": "uiA6YWgUwAu4",
        "outputId": "f8b9b13c-46c9-429b-894f-fcaec91d30d3"
      },
      "execution_count": 9,
      "outputs": [
        {
          "output_type": "stream",
          "name": "stdout",
          "text": [
            "[('bought', 605), ('game', 2275), ('say', 4698), ('worth', 6122), ('buying', 703), ('gamer', 2281), ('life', 3133), ('never', 3614), ('turned', 5717), ('video', 5906), ('within', 6079), ('minute', 3461), ('playing', 4008), ('controls', 1129), ('cares', 754), ('charecter', 835), ('can', 726), ('graphics', 2422), ('one', 3734), ('kind', 2987)]\n"
          ]
        }
      ]
    },
    {
      "cell_type": "code",
      "source": [
        "# examino la longitud del vocabulario\n",
        "\n",
        "print(len(cv.vocabulary_))"
      ],
      "metadata": {
        "colab": {
          "base_uri": "https://localhost:8080/"
        },
        "id": "A3KhSNxrwA38",
        "outputId": "9255fe99-850a-4b62-d089-362ad1f741c1"
      },
      "execution_count": 10,
      "outputs": [
        {
          "output_type": "stream",
          "name": "stdout",
          "text": [
            "6178\n"
          ]
        }
      ]
    },
    {
      "cell_type": "code",
      "source": [
        "# Transformo X_train, X_test con TfidfVectorizer y obtengo el vocabulario\n",
        "\n",
        "X_train_cv = cv.transform(X_train)\n",
        "X_test_cv = cv.transform(X_test)\n",
        "vocabulary = cv.vocabulary_"
      ],
      "metadata": {
        "id": "qLhbopc5I1Pz"
      },
      "execution_count": 11,
      "outputs": []
    },
    {
      "cell_type": "code",
      "source": [
        "X_train_cv"
      ],
      "metadata": {
        "colab": {
          "base_uri": "https://localhost:8080/"
        },
        "id": "UVx1d2LdWQEi",
        "outputId": "92ebcb69-43db-47a2-ab89-0e24ef2656fc"
      },
      "execution_count": 12,
      "outputs": [
        {
          "output_type": "execute_result",
          "data": {
            "text/plain": [
              "<5559x6178 sparse matrix of type '<class 'numpy.float64'>'\n",
              "\twith 161310 stored elements in Compressed Sparse Row format>"
            ]
          },
          "metadata": {},
          "execution_count": 12
        }
      ]
    },
    {
      "cell_type": "code",
      "source": [
        "i = random.randint(0, len(X_train))\n",
        "print('ID: {}'.format(i))\n",
        "print('Sentiment: {}'.format(y_train.iloc[i]))\n",
        "print('Review: {}'.format(X_train.iloc[i]))"
      ],
      "metadata": {
        "colab": {
          "base_uri": "https://localhost:8080/"
        },
        "id": "a61yRSGXI1lg",
        "outputId": "b5294df8-4255-4db3-eccc-d0577889ea37"
      },
      "execution_count": 13,
      "outputs": [
        {
          "output_type": "stream",
          "name": "stdout",
          "text": [
            "ID: 1435\n",
            "Sentiment: 1\n",
            "Review: game well thought can command ships let game also require tell game every detail organize enjoyed many hours strategy fun will\n"
          ]
        }
      ]
    },
    {
      "cell_type": "code",
      "source": [
        "doc_vector = X_train_cv[i]\n",
        "df_tfidf = pd.DataFrame(doc_vector.T.todense(), index=cv.get_feature_names_out(), columns=['tfidf'])\n",
        "df_tfidf = df_tfidf[df_tfidf['tfidf'] > 0]\n",
        "\n",
        "top_n = 10\n",
        "print('Top {} words with highest TF_IDF in the review {}:\\n{}'.format(top_n, i, df_tfidf.sort_values(by=[\"tfidf\"],ascending=False)[:top_n]))\n",
        "print('\\nTop {} words with lowest TF_IDF in the review {}:\\n{}'.format(top_n, i, df_tfidf.sort_values(by=[\"tfidf\"],ascending=True)[:top_n]))"
      ],
      "metadata": {
        "colab": {
          "base_uri": "https://localhost:8080/"
        },
        "id": "aDbwks2MI107",
        "outputId": "1061699a-65aa-44d6-c994-bce6e895c296"
      },
      "execution_count": 14,
      "outputs": [
        {
          "output_type": "stream",
          "name": "stdout",
          "text": [
            "Top 10 words with highest TF_IDF in the review 1435:\n",
            "             tfidf\n",
            "organize  0.381876\n",
            "ships     0.305051\n",
            "command   0.291871\n",
            "require   0.278490\n",
            "detail    0.272964\n",
            "strategy  0.249290\n",
            "enjoyed   0.241850\n",
            "tell      0.230786\n",
            "game      0.228705\n",
            "let       0.215760\n",
            "\n",
            "Top 10 words with lowest TF_IDF in the review 1435:\n",
            "            tfidf\n",
            "can      0.126759\n",
            "will     0.135070\n",
            "fun      0.153571\n",
            "also     0.161213\n",
            "many     0.164207\n",
            "well     0.174253\n",
            "every    0.177831\n",
            "hours    0.197540\n",
            "thought  0.198100\n",
            "let      0.215760\n"
          ]
        }
      ]
    },
    {
      "cell_type": "code",
      "source": [
        "doc_vector = X_train_cv[i]\n",
        "df_tfidf = pd.DataFrame(doc_vector.T.todense(), index=cv.get_feature_names_out(), columns=['tfidf'])\n",
        "df_tfidf = df_tfidf[df_tfidf['tfidf'] > 0]\n",
        "\n",
        "top_n = 10\n",
        "print('Top {} palabras con el mayor TF-IDF en la revisión {}:\\n{}'.format(top_n, i, df_tfidf.sort_values(by=[\"tfidf\"], ascending=False)[:top_n]))\n",
        "print('\\nTop {} palabras con el menor TF-IDF en la revisión {}:\\n{}'.format(top_n, i, df_tfidf.sort_values(by=[\"tfidf\"], ascending=True)[:top_n]))\n"
      ],
      "metadata": {
        "colab": {
          "base_uri": "https://localhost:8080/"
        },
        "id": "7o44C1FrHAVd",
        "outputId": "0940b24d-2ec2-42d3-cf82-f064143bd50b"
      },
      "execution_count": 15,
      "outputs": [
        {
          "output_type": "stream",
          "name": "stdout",
          "text": [
            "Top 10 palabras con el mayor TF-IDF en la revisión 1435:\n",
            "             tfidf\n",
            "organize  0.381876\n",
            "ships     0.305051\n",
            "command   0.291871\n",
            "require   0.278490\n",
            "detail    0.272964\n",
            "strategy  0.249290\n",
            "enjoyed   0.241850\n",
            "tell      0.230786\n",
            "game      0.228705\n",
            "let       0.215760\n",
            "\n",
            "Top 10 palabras con el menor TF-IDF en la revisión 1435:\n",
            "            tfidf\n",
            "can      0.126759\n",
            "will     0.135070\n",
            "fun      0.153571\n",
            "also     0.161213\n",
            "many     0.164207\n",
            "well     0.174253\n",
            "every    0.177831\n",
            "hours    0.197540\n",
            "thought  0.198100\n",
            "let      0.215760\n"
          ]
        }
      ]
    },
    {
      "cell_type": "code",
      "source": [
        "# Hago la selección de características con chi2\n",
        "\n",
        "i = 15\n",
        "\n",
        "chi2score = chi2(X_train_cv, y_train)[0]\n",
        "scores = list(zip(cv.get_feature_names_out(), chi2score))\n",
        "sorted_scores = sorted(scores, key=lambda x:x[1])\n",
        "topchi2 = list(zip(*sorted_scores[-i:]))\n",
        "x = range(len(topchi2[1]))\n",
        "labels = topchi2[0]\n",
        "\n",
        "plt.figure(figsize=(12, 8))\n",
        "plt.barh(x,topchi2[1], align='center', alpha=0.5)\n",
        "plt.plot(topchi2[1], x, '-o', markersize=5, alpha=0.8)\n",
        "plt.yticks(x, labels, fontsize=12)\n",
        "plt.xlabel('$\\chi^2$', fontsize=26)\n",
        "plt.ylabel('word', fontsize=16)\n",
        "plt.title('Top {} $\\chi^2$ score for each word in the training set'.format(i), fontsize=20)\n",
        "plt.grid()\n",
        "plt.tight_layout()\n",
        "plt.show();"
      ],
      "metadata": {
        "colab": {
          "base_uri": "https://localhost:8080/",
          "height": 807
        },
        "id": "Tzx7qF3tI2Cl",
        "outputId": "491aa676-e45b-44f8-ed8c-a6c6d624f00a"
      },
      "execution_count": 16,
      "outputs": [
        {
          "output_type": "display_data",
          "data": {
            "text/plain": [
              "<Figure size 1200x800 with 1 Axes>"
            ],
            "image/png": "[encoded data removed]"
          },
          "metadata": {}
        }
      ]
    },
    {
      "cell_type": "code",
      "source": [
        "# hago regresion logistica con distintos valores\n",
        "\n",
        "c_params = [0.01, 0.05, 0.25, 0.5, 1, 10, 100, 1000, 10000]\n",
        "\n",
        "train_acc = list()\n",
        "test_acc = list()\n",
        "for c in c_params:\n",
        "    lr = LogisticRegression(C=c, solver='lbfgs', max_iter=1000)\n",
        "    lr.fit(X_train_cv, y_train)\n",
        "\n",
        "    train_predict = lr.predict(X_train_cv)\n",
        "    test_predict = lr.predict(X_test_cv)\n",
        "\n",
        "    print (\"Accuracy_train for C={}: {}\".format(c, accuracy_score(y_train, train_predict)))\n",
        "    print (\"Accuracy_test for C={}: {}\".format(c, accuracy_score(y_test, test_predict)))\n",
        "\n",
        "\n",
        "    train_acc.append(accuracy_score(y_train, train_predict))\n",
        "    test_acc.append(accuracy_score(y_test, test_predict))\n",
        ""
      ],
      "metadata": {
        "colab": {
          "base_uri": "https://localhost:8080/"
        },
        "id": "4OF1otpHI2Q3",
        "outputId": "0280df90-bfdf-4e6a-e6ee-4d5926f672c5"
      },
      "execution_count": 38,
      "outputs": [
        {
          "output_type": "stream",
          "name": "stdout",
          "text": [
            "Accuracy_train for C=0.01: 0.809498111171074\n",
            "Accuracy_test for C=0.01: 0.7899280575539568\n",
            "Accuracy_train for C=0.05: 0.8314445044072675\n",
            "Accuracy_test for C=0.05: 0.8107913669064748\n",
            "Accuracy_train for C=0.25: 0.870300413743479\n",
            "Accuracy_test for C=0.25: 0.8366906474820144\n",
            "Accuracy_train for C=0.5: 0.8922468069796726\n",
            "Accuracy_test for C=0.5: 0.8482014388489209\n",
            "Accuracy_train for C=1: 0.9167116387839539\n",
            "Accuracy_test for C=1: 0.8539568345323741\n",
            "Accuracy_train for C=10: 0.9812915992084907\n",
            "Accuracy_test for C=10: 0.8719424460431655\n",
            "Accuracy_train for C=100: 0.9965821190861666\n",
            "Accuracy_test for C=100: 0.8669064748201439\n",
            "Accuracy_train for C=1000: 0.9976614499010613\n",
            "Accuracy_test for C=1000: 0.8568345323741007\n",
            "Accuracy_train for C=10000: 0.9980212268393596\n",
            "Accuracy_test for C=10000: 0.8532374100719424\n"
          ]
        }
      ]
    },
    {
      "cell_type": "code",
      "source": [
        "# Hago la matriz de confusion, clasificacion y el accuracy\n",
        "\n",
        "print('Confussion matrix:\\n{}'.format(confusion_matrix(y_test, test_predict)))\n",
        "print('\\nClassification report:\\n{}'.format(classification_report(y_test, test_predict)))\n",
        "print('Accuracy score:{}'.format(accuracy_score(y_test, test_predict)))"
      ],
      "metadata": {
        "colab": {
          "base_uri": "https://localhost:8080/"
        },
        "id": "MhVh1Y65Uo2f",
        "outputId": "018f9f02-a935-478e-a4cf-8e89c586011b"
      },
      "execution_count": 18,
      "outputs": [
        {
          "output_type": "stream",
          "name": "stdout",
          "text": [
            "Confussion matrix:\n",
            "[[614  94]\n",
            " [110 572]]\n",
            "\n",
            "Classification report:\n",
            "              precision    recall  f1-score   support\n",
            "\n",
            "           0       0.85      0.87      0.86       708\n",
            "           1       0.86      0.84      0.85       682\n",
            "\n",
            "    accuracy                           0.85      1390\n",
            "   macro avg       0.85      0.85      0.85      1390\n",
            "weighted avg       0.85      0.85      0.85      1390\n",
            "\n",
            "Accuracy score:0.8532374100719424\n"
          ]
        }
      ]
    },
    {
      "cell_type": "code",
      "source": [
        "X_train_cv"
      ],
      "metadata": {
        "colab": {
          "base_uri": "https://localhost:8080/"
        },
        "id": "220TbVdgWKSR",
        "outputId": "a920b0a0-6a09-417a-a0df-1666076dfba1"
      },
      "execution_count": 19,
      "outputs": [
        {
          "output_type": "execute_result",
          "data": {
            "text/plain": [
              "<5559x6178 sparse matrix of type '<class 'numpy.float64'>'\n",
              "\twith 161310 stored elements in Compressed Sparse Row format>"
            ]
          },
          "metadata": {},
          "execution_count": 19
        }
      ]
    },
    {
      "cell_type": "code",
      "source": [
        "# Hago el modelo GradientBoosting\n",
        "\n",
        "n_estimators = 32\n",
        "\n",
        "def classify_gboost(X_train, X_test, y_train, y_test):\n",
        "    clf = GradientBoostingClassifier(n_estimators=n_estimators, learning_rate=1.0, max_depth=4, random_state=42)\n",
        "\n",
        "    clf.fit(X_train, y_train)\n",
        "\n",
        "    print(\"[{}] Accuracy: train = {}, test = {}\".format(\n",
        "            clf.__class__.__name__,\n",
        "            clf.score(X_train, y_train),\n",
        "            clf.score(X_test, y_test)))\n",
        "\n",
        "    return clf\n",
        "\n",
        "\n",
        "clf2 = classify_gboost(X_train_cv, X_test_cv, y_train, y_test)"
      ],
      "metadata": {
        "colab": {
          "base_uri": "https://localhost:8080/"
        },
        "id": "EJombQhrVrOe",
        "outputId": "7894af00-0e39-443b-9877-891dd43c9f1b"
      },
      "execution_count": 20,
      "outputs": [
        {
          "output_type": "stream",
          "name": "stdout",
          "text": [
            "[GradientBoostingClassifier] Accuracy: train = 0.8897283684115849, test = 0.7913669064748201\n"
          ]
        }
      ]
    },
    {
      "cell_type": "code",
      "source": [
        "max = 0\n",
        "mean = []\n",
        "for example in X_train:\n",
        "  length = len(example)\n",
        "  mean.append(len(example))\n",
        "  if length > max:\n",
        "    max = length"
      ],
      "metadata": {
        "id": "jSDGLHrx2HDe"
      },
      "execution_count": 21,
      "outputs": []
    },
    {
      "cell_type": "code",
      "source": [
        "sum(mean) / len(mean)"
      ],
      "metadata": {
        "colab": {
          "base_uri": "https://localhost:8080/"
        },
        "id": "UKGxPjpa2K4a",
        "outputId": "bf8bc592-a804-4cae-c47f-03443b242983"
      },
      "execution_count": 22,
      "outputs": [
        {
          "output_type": "execute_result",
          "data": {
            "text/plain": [
              "247.26893326137795"
            ]
          },
          "metadata": {},
          "execution_count": 22
        }
      ]
    },
    {
      "cell_type": "code",
      "source": [
        "max"
      ],
      "metadata": {
        "colab": {
          "base_uri": "https://localhost:8080/"
        },
        "id": "fBAgbErM2NAW",
        "outputId": "6fca3b9b-08ef-4e3f-805f-6c81e8272d49"
      },
      "execution_count": 23,
      "outputs": [
        {
          "output_type": "execute_result",
          "data": {
            "text/plain": [
              "16972"
            ]
          },
          "metadata": {},
          "execution_count": 23
        }
      ]
    },
    {
      "cell_type": "code",
      "source": [
        "# Vectorizo y hago pad sequence de X_train y X_test\n",
        "\n",
        "# Crear una instancia de CountVectorizer\n",
        "vectorizer = CountVectorizer()\n",
        "\n",
        "# Ajustar el vectorizador a los datos de entrenamiento y transformarlos en una matriz de recuento\n",
        "X_train_vec = vectorizer.fit_transform(X_train).toarray()\n",
        "X_test_vec = vectorizer.fit_transform(X_test).toarray()\n",
        "# Mostrar la forma de la matriz de recuento\n",
        "print(\"Forma de la matriz de recuento de palabras:\", X_train_vec.shape)\n",
        "max_words = 3000\n",
        "\n",
        "X_train_vec = pad_sequences(X_train_vec, maxlen=max_words)\n",
        "X_test_vec = pad_sequences(X_test_vec, maxlen=max_words)\n",
        "print(\"Forma de la matriz de X_train_vec:\", X_train_vec.shape)\n",
        "print(\"Forma de la matriz de X_test_vec:\", X_test_vec.shape)\n",
        "\n"
      ],
      "metadata": {
        "colab": {
          "base_uri": "https://localhost:8080/"
        },
        "id": "iX8RH8bh3ahs",
        "outputId": "cf67fb7a-1ef8-475f-8ce1-f73a5f2f820e"
      },
      "execution_count": 24,
      "outputs": [
        {
          "output_type": "stream",
          "name": "stdout",
          "text": [
            "Forma de la matriz de recuento de palabras: (5559, 14660)\n",
            "Forma de la matriz de X_train_vec: (5559, 3000)\n",
            "Forma de la matriz de X_test_vec: (1390, 3000)\n"
          ]
        }
      ]
    },
    {
      "cell_type": "code",
      "source": [
        "import sklearn.preprocessing as pr\n",
        "\n",
        "X_train_vec = pr.normalize(X_train_vec, axis=1)\n",
        "X_test_vec = pr.normalize(X_test_vec, axis=1)"
      ],
      "metadata": {
        "id": "KDUEHW3nBWxM"
      },
      "execution_count": 25,
      "outputs": []
    },
    {
      "cell_type": "code",
      "source": [
        "# hago el modelo TSM\n",
        "\n",
        "\n",
        "vocabulary_size = len(vocabulary)\n",
        "\n",
        "\n",
        "embedding_size = 32\n",
        "model = Sequential()\n",
        "model.add(Embedding(vocabulary_size, embedding_size, input_length=max_words))\n",
        "model.add(LSTM(100, dropout=0.2, recurrent_dropout=0.2))\n",
        "model.add(Dense(1, activation='sigmoid'))\n",
        "\n",
        "print(model.summary())\n",
        "\n",
        "model.compile(loss='binary_crossentropy', optimizer=Adam(learning_rate=1.0), metrics=['accuracy'])\n",
        "batch_size = 128\n",
        "num_epochs = 1\n",
        "\n",
        "X_train2, X_valid, y_train2, y_valid = train_test_split(X_train_vec, y_train, test_size=0.2, random_state=42)\n",
        "\n",
        "model.fit(X_train2, y_train2,\n",
        "          validation_data=(X_valid, y_valid),\n",
        "          batch_size=batch_size, epochs=num_epochs)\n",
        "\n"
      ],
      "metadata": {
        "colab": {
          "base_uri": "https://localhost:8080/"
        },
        "id": "j9zUrTqEY5gv",
        "outputId": "dea5904b-3a66-4d67-b393-7bd2be133b53"
      },
      "execution_count": 40,
      "outputs": [
        {
          "output_type": "stream",
          "name": "stderr",
          "text": [
            "WARNING:tensorflow:Layer lstm_6 will not use cuDNN kernels since it doesn't meet the criteria. It will use a generic GPU kernel as fallback when running on GPU.\n"
          ]
        },
        {
          "output_type": "stream",
          "name": "stdout",
          "text": [
            "Model: \"sequential_8\"\n",
            "_________________________________________________________________\n",
            " Layer (type)                Output Shape              Param #   \n",
            "=================================================================\n",
            " embedding_8 (Embedding)     (None, 3000, 32)          197696    \n",
            "                                                                 \n",
            " lstm_6 (LSTM)               (None, 100)               53200     \n",
            "                                                                 \n",
            " dense_8 (Dense)             (None, 1)                 101       \n",
            "                                                                 \n",
            "=================================================================\n",
            "Total params: 250997 (980.46 KB)\n",
            "Trainable params: 250997 (980.46 KB)\n",
            "Non-trainable params: 0 (0.00 Byte)\n",
            "_________________________________________________________________\n",
            "None\n",
            "35/35 [==============================] - 447s 13s/step - loss: 2.3937 - accuracy: 0.5084 - val_loss: 1.2584 - val_accuracy: 0.5000\n"
          ]
        },
        {
          "output_type": "execute_result",
          "data": {
            "text/plain": [
              "<keras.src.callbacks.History at 0x7f6d544dbc40>"
            ]
          },
          "metadata": {},
          "execution_count": 40
        }
      ]
    },
    {
      "cell_type": "code",
      "source": [
        "scores = model.evaluate(X_test_vec, y_test, verbose=0)  # returns loss and other metrics specified in model.compile()\n",
        "print(\"Test accuracy:\", scores[1])  # scores[1] should correspond to accuracy if you passed in metrics=['accuracy']"
      ],
      "metadata": {
        "colab": {
          "base_uri": "https://localhost:8080/"
        },
        "id": "caPdxhAA6AlS",
        "outputId": "a0921a61-4baf-46a0-fb3d-5d8818395752"
      },
      "execution_count": 41,
      "outputs": [
        {
          "output_type": "stream",
          "name": "stdout",
          "text": [
            "Test accuracy: 0.49064749479293823\n"
          ]
        }
      ]
    },
    {
      "cell_type": "code",
      "source": [
        "# Hago modelo GRU\n",
        "\n",
        "embedding_size = 32\n",
        "model_gru = Sequential()\n",
        "model_gru.add(Embedding(vocabulary_size, embedding_size, input_length=max_words))\n",
        "model_gru.add(GRU(100))\n",
        "model_gru.add(Dense(1, activation='sigmoid'))\n",
        "\n",
        "print(model_gru.summary())\n",
        "\n",
        "model_gru.compile(loss='binary_crossentropy', optimizer='adam', metrics=['accuracy'])\n",
        "batch_size = 128\n",
        "num_epochs = 1\n",
        "\n",
        "\n",
        "\n",
        "model_gru.fit(X_train2, y_train2,\n",
        "          validation_data=(X_valid, y_valid),\n",
        "          batch_size=batch_size, epochs=num_epochs)\n",
        "\n",
        "scores = model_gru.evaluate(X_test_vec, y_test, verbose=0)  # returns loss and other metrics specified in model.compile()\n",
        "print(\"Test accuracy:\", scores[1])  # scores[1] should correspond to accuracy if you passed in metrics=['accuracy']"
      ],
      "metadata": {
        "colab": {
          "base_uri": "https://localhost:8080/"
        },
        "id": "0QNmydQXWqDT",
        "outputId": "b1a872ec-44a7-4446-dea4-2d36780fc8ea"
      },
      "execution_count": 42,
      "outputs": [
        {
          "output_type": "stream",
          "name": "stdout",
          "text": [
            "Model: \"sequential_9\"\n",
            "_________________________________________________________________\n",
            " Layer (type)                Output Shape              Param #   \n",
            "=================================================================\n",
            " embedding_9 (Embedding)     (None, 3000, 32)          197696    \n",
            "                                                                 \n",
            " gru_1 (GRU)                 (None, 100)               40200     \n",
            "                                                                 \n",
            " dense_9 (Dense)             (None, 1)                 101       \n",
            "                                                                 \n",
            "=================================================================\n",
            "Total params: 237997 (929.68 KB)\n",
            "Trainable params: 237997 (929.68 KB)\n",
            "Non-trainable params: 0 (0.00 Byte)\n",
            "_________________________________________________________________\n",
            "None\n",
            "35/35 [==============================] - 7s 153ms/step - loss: 0.6936 - accuracy: 0.4947 - val_loss: 0.6932 - val_accuracy: 0.5000\n",
            "Test accuracy: 0.5093525052070618\n"
          ]
        }
      ]
    },
    {
      "cell_type": "code",
      "source": [
        "# Modelo RNN\n",
        "\n",
        "embedding_size = 32\n",
        "model_rnn = Sequential()\n",
        "model_rnn.add(Embedding(vocabulary_size, embedding_size, input_length=max_words))\n",
        "model_rnn.add(SimpleRNN(100))\n",
        "model_rnn.add(Dense(1, activation='sigmoid'))\n",
        "\n",
        "print(model_rnn.summary())\n",
        "\n",
        "model_rnn.compile(loss='binary_crossentropy', optimizer='adam', metrics=['accuracy'])\n",
        "\n",
        "batch_size = 64\n",
        "num_epochs = 1\n",
        "\n",
        "X_valid_rnn, y_valid_rnn = X_train_vec[:batch_size], y_train[:batch_size]  # first batch_size samples\n",
        "X_train_rnn, y_train_rnn = X_train_vec[batch_size:], y_train[batch_size:]  # rest for training\n",
        "\n",
        "model_rnn.fit(X_train_rnn, y_train_rnn,\n",
        "          validation_data=(X_valid_rnn, y_valid_rnn),\n",
        "          batch_size=batch_size, epochs=num_epochs)\n",
        "\n",
        "scores = model_rnn.evaluate(X_test_vec, y_test, verbose=0)  # returns loss and other metrics specified in model.compile()\n",
        "print(\"Test accuracy:\", scores[1])  # scores[1] should correspond to accuracy if you passed in metrics=['accuracy']"
      ],
      "metadata": {
        "colab": {
          "base_uri": "https://localhost:8080/"
        },
        "id": "l453z5WR-gaW",
        "outputId": "027d0f0d-4f73-486d-f0b2-e79f500b24de"
      },
      "execution_count": 31,
      "outputs": [
        {
          "output_type": "stream",
          "name": "stdout",
          "text": [
            "Model: \"sequential_2\"\n",
            "_________________________________________________________________\n",
            " Layer (type)                Output Shape              Param #   \n",
            "=================================================================\n",
            " embedding_2 (Embedding)     (None, 3000, 32)          197696    \n",
            "                                                                 \n",
            " simple_rnn (SimpleRNN)      (None, 100)               13300     \n",
            "                                                                 \n",
            " dense_2 (Dense)             (None, 1)                 101       \n",
            "                                                                 \n",
            "=================================================================\n",
            "Total params: 211097 (824.60 KB)\n",
            "Trainable params: 211097 (824.60 KB)\n",
            "Non-trainable params: 0 (0.00 Byte)\n",
            "_________________________________________________________________\n",
            "None\n",
            "86/86 [==============================] - 261s 3s/step - loss: 0.7207 - accuracy: 0.5145 - val_loss: 0.6902 - val_accuracy: 0.5469\n",
            "Test accuracy: 0.5093525052070618\n"
          ]
        }
      ]
    }
  ]
}